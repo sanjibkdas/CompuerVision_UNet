{
  "nbformat": 4,
  "nbformat_minor": 0,
  "metadata": {
    "accelerator": "GPU",
    "colab": {
      "name": "Questions-AIML Online - Project 1- Advanced Computer Vision - Face Mask Prediction using U-Net (1).ipynb",
      "provenance": [],
      "collapsed_sections": [
        "NgR0j5310qqC"
      ],
      "toc_visible": true,
      "include_colab_link": true
    },
    "kernelspec": {
      "display_name": "Python 3",
      "language": "python",
      "name": "python3"
    },
    "language_info": {
      "codemirror_mode": {
        "name": "ipython",
        "version": 3
      },
      "file_extension": ".py",
      "mimetype": "text/x-python",
      "name": "python",
      "nbconvert_exporter": "python",
      "pygments_lexer": "ipython3",
      "version": "3.7.1"
    }
  },
  "cells": [
    {
      "cell_type": "markdown",
      "metadata": {
        "id": "view-in-github",
        "colab_type": "text"
      },
      "source": [
        "<a href=\"https://colab.research.google.com/github/sanjibkdas/CompuerVision_UNet/blob/main/Questions_AIML_Online_Project_1_Advanced_Computer_Vision_Face_Mask_Prediction_using_U_Net_(1).ipynb\" target=\"_parent\"><img src=\"https://colab.research.google.com/assets/colab-badge.svg\" alt=\"Open In Colab\"/></a>"
      ]
    },
    {
      "cell_type": "markdown",
      "metadata": {
        "id": "q24VEuL2PbvT"
      },
      "source": [
        "![alt text](https://drive.google.com/uc?export=view&id=1UXScsVx_Wni_JuDdB8LeTnM6jsPfIwkW)\n",
        "\n",
        "Proprietary content. © Great Learning. All Rights Reserved. Unauthorized use or distribution prohibited."
      ]
    },
    {
      "cell_type": "markdown",
      "metadata": {
        "id": "NgR0j5310qqC"
      },
      "source": [
        "# Face Mask Prediction using U-Net\n",
        "Task is to predict the mask around the face in a given image."
      ]
    },
    {
      "cell_type": "markdown",
      "metadata": {
        "id": "VvWl3ebqzCc1"
      },
      "source": [
        "# Instructions\n",
        "- Some part of the code is already done for you\n",
        "- You need to execute all the cells\n",
        "- You need to add the code where ever you see `\"#### Add your code here ####\"`\n",
        "- Marks are mentioned along with the cells"
      ]
    },
    {
      "cell_type": "markdown",
      "metadata": {
        "id": "Aa0jyJzw091I"
      },
      "source": [
        "## Dataset\n",
        "Faces in images marked with bounding boxes. Have around 409 images with around 1000 faces manually tagged via bounding box.\n",
        "- Data file name: images.npy"
      ]
    },
    {
      "cell_type": "markdown",
      "metadata": {
        "id": "CjRTlPkp1LC2"
      },
      "source": [
        "### Mount Google drive if you are using google colab\n",
        "- We recommend using Google Colab as you can face memory issues and longer runtimes while running on local"
      ]
    },
    {
      "cell_type": "code",
      "metadata": {
        "colab": {
          "base_uri": "https://localhost:8080/"
        },
        "id": "sBWMoTJ9cf3Z",
        "outputId": "5f350e1d-d6f9-4d4b-d614-9dab500fc2da"
      },
      "source": [
        "#### Add your code here ####\n",
        "from google.colab import drive\n",
        "drive.mount('/content/drive')"
      ],
      "execution_count": 1,
      "outputs": [
        {
          "output_type": "stream",
          "text": [
            "Drive already mounted at /content/drive; to attempt to forcibly remount, call drive.mount(\"/content/drive\", force_remount=True).\n"
          ],
          "name": "stdout"
        }
      ]
    },
    {
      "cell_type": "markdown",
      "metadata": {
        "id": "3srplE-FEpKa"
      },
      "source": [
        "### Load the \"images.npy\" file (2 marks)\n",
        "- This file contains images with details of bounding boxes"
      ]
    },
    {
      "cell_type": "code",
      "metadata": {
        "id": "MqFE_tZDf0sM"
      },
      "source": [
        "import numpy as np\n",
        "data = np.load('/content/drive/My Drive/Colab Notebooks/images.npy', allow_pickle=True)\n",
        "\n",
        "#### Add your code here ####"
      ],
      "execution_count": 2,
      "outputs": []
    },
    {
      "cell_type": "markdown",
      "metadata": {
        "id": "_SMP8zliFT7R"
      },
      "source": [
        "### Check one sample from the loaded \"images.npy\" file  (3 marks)\n",
        "- Hint: print data[10][1] "
      ]
    },
    {
      "cell_type": "code",
      "metadata": {
        "colab": {
          "base_uri": "https://localhost:8080/"
        },
        "id": "NoqNvPK-iXqG",
        "outputId": "c4db49be-aad6-4eaf-cbf9-be6384617fa2"
      },
      "source": [
        "print(data.shape)\n",
        "#### Add your code here ####\n",
        "##print(data[1])\n",
        "print(data[1][1])\n",
        "a = data[1][1]\n",
        "print(type(a))\n",
        "print(len(a))\n",
        "print('Image height is ---->', a[0].get('imageHeight'))\n",
        "print('Image width is ---->', a[0].get('imageWidth'))"
      ],
      "execution_count": 3,
      "outputs": [
        {
          "output_type": "stream",
          "text": [
            "(409, 2)\n",
            "[{'label': ['Face'], 'notes': '', 'points': [{'x': 0.7053087757313109, 'y': 0.23260437375745527}, {'x': 0.7692307692307693, 'y': 0.36182902584493043}], 'imageWidth': 1280, 'imageHeight': 697}]\n",
            "<class 'list'>\n",
            "1\n",
            "Image height is ----> 697\n",
            "Image width is ----> 1280\n"
          ],
          "name": "stdout"
        }
      ]
    },
    {
      "cell_type": "markdown",
      "metadata": {
        "id": "m94G4p3CE5Cj"
      },
      "source": [
        "### Set image dimensions   (2 marks)\n",
        "- Initialize image height, image width with value: 224 "
      ]
    },
    {
      "cell_type": "code",
      "metadata": {
        "id": "kuZmtOASevDo"
      },
      "source": [
        "#### Add your code here ####\n",
        "IMAGE_WIDTH = 224\n",
        "IMAGE_HEIGHT = 224\n",
        "\n"
      ],
      "execution_count": 4,
      "outputs": []
    },
    {
      "cell_type": "markdown",
      "metadata": {
        "id": "wY6FEsCjG47s"
      },
      "source": [
        "### Create features and labels\n",
        "- Here feature is the image\n",
        "- The label is the mask\n",
        "- Images will be stored in \"X\" array\n",
        "- Masks will be stored in \"masks\" array"
      ]
    },
    {
      "cell_type": "code",
      "metadata": {
        "id": "XjCT9EVTgAvr"
      },
      "source": [
        "import cv2\n",
        "from tensorflow.keras.applications.mobilenet import preprocess_input\n",
        "\n",
        "masks = np.zeros((int(data.shape[0]), IMAGE_HEIGHT, IMAGE_WIDTH))\n",
        "X = np.zeros((int(data.shape[0]), IMAGE_HEIGHT, IMAGE_WIDTH, 3))\n",
        "for index in range(data.shape[0]):\n",
        "    img = data[index][0]\n",
        "    img = cv2.resize(img, dsize=(IMAGE_HEIGHT, IMAGE_WIDTH), interpolation=cv2.INTER_CUBIC)\n",
        "   # print(img)\n",
        "    try:\n",
        "      img = img[:, :, :3]\n",
        "      #print(img)\n",
        "    except:\n",
        "      continue\n",
        "    X[index] = preprocess_input(np.array(img, dtype=np.float32))\n",
        "    for i in data[index][1]:\n",
        "        x1 = int(i[\"points\"][0]['x'] * IMAGE_WIDTH)\n",
        "        x2 = int(i[\"points\"][1]['x'] * IMAGE_WIDTH)\n",
        "        y1 = int(i[\"points\"][0]['y'] * IMAGE_HEIGHT)\n",
        "        y2 = int(i[\"points\"][1]['y'] * IMAGE_HEIGHT)\n",
        "        masks[index][y1:y2, x1:x2] = 1"
      ],
      "execution_count": 5,
      "outputs": []
    },
    {
      "cell_type": "markdown",
      "metadata": {
        "id": "N3AYbP79bFtJ"
      },
      "source": [
        "### Split the data into training and testing (3 marks)\n",
        "- 400 images in training\n",
        "- 9 images in testing data"
      ]
    },
    {
      "cell_type": "markdown",
      "metadata": {
        "id": "-Uc0NmqXQtPK"
      },
      "source": [
        "Training data"
      ]
    },
    {
      "cell_type": "code",
      "metadata": {
        "id": "3PIRaEdWIjDa"
      },
      "source": [
        "#### Training Data ####\n",
        "X_train = X[:400]\n",
        "#### Test Data ####\n",
        "y_train = masks[:400]"
      ],
      "execution_count": 6,
      "outputs": []
    },
    {
      "cell_type": "markdown",
      "metadata": {
        "id": "7ybyn6QnQ4ID"
      },
      "source": [
        "Testing data"
      ]
    },
    {
      "cell_type": "code",
      "metadata": {
        "id": "Gw6uH5DxgI_r"
      },
      "source": [
        "X_test = X[400:]#### Add your code here ####\n",
        "y_test = masks[400:]#### Add your code here ####"
      ],
      "execution_count": 7,
      "outputs": []
    },
    {
      "cell_type": "markdown",
      "metadata": {
        "id": "R4wgkWq1bk5F"
      },
      "source": [
        "### Print a sample training image, image array and its mask (3 marks)"
      ]
    },
    {
      "cell_type": "markdown",
      "metadata": {
        "id": "gfqobMQoRCW-"
      },
      "source": [
        "Print the image and image array"
      ]
    },
    {
      "cell_type": "code",
      "metadata": {
        "colab": {
          "base_uri": "https://localhost:8080/",
          "height": 1000
        },
        "id": "qfRZjQufj0N9",
        "outputId": "aa87f5da-c413-4fbf-e63a-f4a0b74b3c07"
      },
      "source": [
        "#### Add your code here ####\n",
        "\n",
        "import matplotlib.pyplot as plt\n",
        "\n",
        "plt.imshow(X_train[5]);\n",
        "print(X_train[5])"
      ],
      "execution_count": 8,
      "outputs": [
        {
          "output_type": "stream",
          "text": [
            "Clipping input data to the valid range for imshow with RGB data ([0..1] for floats or [0..255] for integers).\n"
          ],
          "name": "stderr"
        },
        {
          "output_type": "stream",
          "text": [
            "[[[ 0.45882356  0.47450984  0.57647061]\n",
            "  [ 0.45882356  0.47450984  0.57647061]\n",
            "  [ 0.47450984  0.49019611  0.59215689]\n",
            "  ...\n",
            "  [-0.72549021 -0.49803919 -0.16862744]\n",
            "  [-0.75686276 -0.48235291 -0.30196077]\n",
            "  [-0.74117649 -0.47450978 -0.27843136]]\n",
            "\n",
            " [[ 0.49803925  0.52941179  0.62352943]\n",
            "  [ 0.49803925  0.52941179  0.62352943]\n",
            "  [ 0.52941179  0.56078434  0.65490198]\n",
            "  ...\n",
            "  [-0.74901962 -0.52156866 -0.21568626]\n",
            "  [-0.65490198 -0.38823527 -0.17647058]\n",
            "  [-0.67058825 -0.40392154 -0.18431371]]\n",
            "\n",
            " [[ 0.44313729  0.47450984  0.56862748]\n",
            "  [ 0.36470592  0.39607847  0.49019611]\n",
            "  [ 0.41960788  0.45098042  0.54509807]\n",
            "  ...\n",
            "  [-0.65490198 -0.41960782 -0.13725489]\n",
            "  [-0.84313726 -0.58431375 -0.32549018]\n",
            "  [-0.85882354 -0.60000002 -0.34117645]]\n",
            "\n",
            " ...\n",
            "\n",
            " [[-1.         -1.         -1.        ]\n",
            "  [-1.         -1.         -1.        ]\n",
            "  [-1.         -1.         -1.        ]\n",
            "  ...\n",
            "  [-1.         -1.         -1.        ]\n",
            "  [-1.         -1.         -1.        ]\n",
            "  [-1.         -1.         -1.        ]]\n",
            "\n",
            " [[-1.         -1.         -1.        ]\n",
            "  [-1.         -1.         -1.        ]\n",
            "  [-1.         -1.         -1.        ]\n",
            "  ...\n",
            "  [-1.         -1.         -1.        ]\n",
            "  [-1.         -1.         -1.        ]\n",
            "  [-1.         -1.         -1.        ]]\n",
            "\n",
            " [[-1.         -1.         -1.        ]\n",
            "  [-1.         -1.         -1.        ]\n",
            "  [-1.         -1.         -1.        ]\n",
            "  ...\n",
            "  [-1.         -1.         -1.        ]\n",
            "  [-1.         -1.         -1.        ]\n",
            "  [-1.         -1.         -1.        ]]]\n"
          ],
          "name": "stdout"
        },
        {
          "output_type": "display_data",
          "data": {
            "image/png": "[encoded data removed]",
            "text/plain": [
              "<Figure size 432x288 with 1 Axes>"
            ]
          },
          "metadata": {
            "tags": [],
            "needs_background": "light"
          }
        }
      ]
    },
    {
      "cell_type": "markdown",
      "metadata": {
        "id": "cctmS46hJKnL"
      },
      "source": [
        "Print the mask"
      ]
    },
    {
      "cell_type": "code",
      "metadata": {
        "colab": {
          "base_uri": "https://localhost:8080/",
          "height": 405
        },
        "id": "983gGKcwlSe8",
        "outputId": "03bdcb56-b757-40c7-b7ce-2bdb3cf6d123"
      },
      "source": [
        "#### Add your code here ####\n",
        "print(masks[5])\n",
        "plt.imshow(masks[5])"
      ],
      "execution_count": 9,
      "outputs": [
        {
          "output_type": "stream",
          "text": [
            "[[0. 0. 0. ... 0. 0. 0.]\n",
            " [0. 0. 0. ... 0. 0. 0.]\n",
            " [0. 0. 0. ... 0. 0. 0.]\n",
            " ...\n",
            " [0. 0. 0. ... 0. 0. 0.]\n",
            " [0. 0. 0. ... 0. 0. 0.]\n",
            " [0. 0. 0. ... 0. 0. 0.]]\n"
          ],
          "name": "stdout"
        },
        {
          "output_type": "execute_result",
          "data": {
            "text/plain": [
              "<matplotlib.image.AxesImage at 0x7f7b23719a90>"
            ]
          },
          "metadata": {
            "tags": []
          },
          "execution_count": 9
        },
        {
          "output_type": "display_data",
          "data": {
            "image/png": "[encoded data removed]",
            "text/plain": [
              "<Figure size 432x288 with 1 Axes>"
            ]
          },
          "metadata": {
            "tags": [],
            "needs_background": "light"
          }
        }
      ]
    },
    {
      "cell_type": "markdown",
      "metadata": {
        "id": "Z0Qa1UOue9TE"
      },
      "source": [
        "## Create the model (7 marks)\n",
        "- Add MobileNet as model with below parameter values\n",
        "  - input_shape: IMAGE_HEIGHT, IMAGE_WIDTH, 3\n",
        "  - include_top: False\n",
        "  - alpha: 1.0\n",
        "  - weights: \"imagenet\"\n",
        "- Add UNET architecture layers\n",
        "  - This is the trickiest part of the project, you need to research and implement it correctly"
      ]
    },
    {
      "cell_type": "code",
      "metadata": {
        "id": "BTVYOvANrUVx"
      },
      "source": [
        "from tensorflow.keras.applications.mobilenet import MobileNet\n",
        "from tensorflow.keras.layers import Reshape, UpSampling2D, Concatenate, Conv2D\n",
        "from tensorflow.keras.models import Model\n",
        "#model = MobileNet(input_shape=(IMAGE_HEIGHT, IMAGE_WIDTH, 3), include_top=False, alpha=1.0, weights=\"imagenet\")\n",
        "#model.summary()\n",
        "def create_model(trainable=True):\n",
        "    model = MobileNet(input_shape=(IMAGE_HEIGHT, IMAGE_WIDTH, 3), include_top=False, alpha=1.0, weights=\"imagenet\")\n",
        "    #model.summary()\n",
        "    for layer in model.layers:\n",
        "        layer.trainable = trainable\n",
        "  \n",
        "    #### Add your code here ####\n",
        "    block1 = model.get_layer(\"conv_pw_1_relu\").output\n",
        "    block2 = model.get_layer(\"conv_pw_3_relu\").output\n",
        "    block3 = model.get_layer(\"conv_pw_5_relu\").output\n",
        "    block4 = model.get_layer(\"conv_pw_11_relu\").output\n",
        "    block5 = model.get_layer(\"conv_pw_13_relu\").output\n",
        "    x = Concatenate()([UpSampling2D()(block5), block4])\n",
        "    x = Concatenate()([UpSampling2D()(x), block3])\n",
        "    x = Concatenate()([UpSampling2D()(x), block2])\n",
        "    x = Concatenate()([UpSampling2D()(x), block1])    \n",
        "    x = UpSampling2D()(x)\n",
        "      \n",
        "     \n",
        "\n",
        "    x = Conv2D(1, kernel_size=1, activation=\"sigmoid\")(x)\n",
        "    x = Reshape((IMAGE_HEIGHT, IMAGE_WIDTH))(x)\n",
        "\n",
        "    return Model(inputs=model.input, outputs=x)"
      ],
      "execution_count": 79,
      "outputs": []
    },
    {
      "cell_type": "markdown",
      "metadata": {
        "id": "_snZ9o0ZBAiv"
      },
      "source": [
        "### Call the create_model function (2 marks)\n",
        "- Give trainable=False as argument, if you want to freeze lower layers for fast training (but low accuracy)"
      ]
    },
    {
      "cell_type": "code",
      "metadata": {
        "id": "9TfSSP51uPoO"
      },
      "source": [
        "#### Add your code here ####\n",
        "model = create_model(False)\n",
        "#model.summary()"
      ],
      "execution_count": 68,
      "outputs": []
    },
    {
      "cell_type": "markdown",
      "metadata": {
        "id": "lUr_ZSHkKb5G"
      },
      "source": [
        "### Print model summary (2 marks)"
      ]
    },
    {
      "cell_type": "code",
      "metadata": {
        "colab": {
          "base_uri": "https://localhost:8080/"
        },
        "id": "xXCbBt78KfT-",
        "outputId": "a5875978-d8e0-4ee8-dcd1-cc78d480b4f6"
      },
      "source": [
        "#### Add your code here ####\n",
        "model.summary()"
      ],
      "execution_count": 69,
      "outputs": [
        {
          "output_type": "stream",
          "text": [
            "Model: \"model_2\"\n",
            "__________________________________________________________________________________________________\n",
            "Layer (type)                    Output Shape         Param #     Connected to                     \n",
            "==================================================================================================\n",
            "input_9 (InputLayer)            [(None, 224, 224, 3) 0                                            \n",
            "__________________________________________________________________________________________________\n",
            "conv1 (Conv2D)                  (None, 112, 112, 32) 864         input_9[0][0]                    \n",
            "__________________________________________________________________________________________________\n",
            "conv1_bn (BatchNormalization)   (None, 112, 112, 32) 128         conv1[0][0]                      \n",
            "__________________________________________________________________________________________________\n",
            "conv1_relu (ReLU)               (None, 112, 112, 32) 0           conv1_bn[0][0]                   \n",
            "__________________________________________________________________________________________________\n",
            "conv_dw_1 (DepthwiseConv2D)     (None, 112, 112, 32) 288         conv1_relu[0][0]                 \n",
            "__________________________________________________________________________________________________\n",
            "conv_dw_1_bn (BatchNormalizatio (None, 112, 112, 32) 128         conv_dw_1[0][0]                  \n",
            "__________________________________________________________________________________________________\n",
            "conv_dw_1_relu (ReLU)           (None, 112, 112, 32) 0           conv_dw_1_bn[0][0]               \n",
            "__________________________________________________________________________________________________\n",
            "conv_pw_1 (Conv2D)              (None, 112, 112, 64) 2048        conv_dw_1_relu[0][0]             \n",
            "__________________________________________________________________________________________________\n",
            "conv_pw_1_bn (BatchNormalizatio (None, 112, 112, 64) 256         conv_pw_1[0][0]                  \n",
            "__________________________________________________________________________________________________\n",
            "conv_pw_1_relu (ReLU)           (None, 112, 112, 64) 0           conv_pw_1_bn[0][0]               \n",
            "__________________________________________________________________________________________________\n",
            "conv_pad_2 (ZeroPadding2D)      (None, 113, 113, 64) 0           conv_pw_1_relu[0][0]             \n",
            "__________________________________________________________________________________________________\n",
            "conv_dw_2 (DepthwiseConv2D)     (None, 56, 56, 64)   576         conv_pad_2[0][0]                 \n",
            "__________________________________________________________________________________________________\n",
            "conv_dw_2_bn (BatchNormalizatio (None, 56, 56, 64)   256         conv_dw_2[0][0]                  \n",
            "__________________________________________________________________________________________________\n",
            "conv_dw_2_relu (ReLU)           (None, 56, 56, 64)   0           conv_dw_2_bn[0][0]               \n",
            "__________________________________________________________________________________________________\n",
            "conv_pw_2 (Conv2D)              (None, 56, 56, 128)  8192        conv_dw_2_relu[0][0]             \n",
            "__________________________________________________________________________________________________\n",
            "conv_pw_2_bn (BatchNormalizatio (None, 56, 56, 128)  512         conv_pw_2[0][0]                  \n",
            "__________________________________________________________________________________________________\n",
            "conv_pw_2_relu (ReLU)           (None, 56, 56, 128)  0           conv_pw_2_bn[0][0]               \n",
            "__________________________________________________________________________________________________\n",
            "conv_dw_3 (DepthwiseConv2D)     (None, 56, 56, 128)  1152        conv_pw_2_relu[0][0]             \n",
            "__________________________________________________________________________________________________\n",
            "conv_dw_3_bn (BatchNormalizatio (None, 56, 56, 128)  512         conv_dw_3[0][0]                  \n",
            "__________________________________________________________________________________________________\n",
            "conv_dw_3_relu (ReLU)           (None, 56, 56, 128)  0           conv_dw_3_bn[0][0]               \n",
            "__________________________________________________________________________________________________\n",
            "conv_pw_3 (Conv2D)              (None, 56, 56, 128)  16384       conv_dw_3_relu[0][0]             \n",
            "__________________________________________________________________________________________________\n",
            "conv_pw_3_bn (BatchNormalizatio (None, 56, 56, 128)  512         conv_pw_3[0][0]                  \n",
            "__________________________________________________________________________________________________\n",
            "conv_pw_3_relu (ReLU)           (None, 56, 56, 128)  0           conv_pw_3_bn[0][0]               \n",
            "__________________________________________________________________________________________________\n",
            "conv_pad_4 (ZeroPadding2D)      (None, 57, 57, 128)  0           conv_pw_3_relu[0][0]             \n",
            "__________________________________________________________________________________________________\n",
            "conv_dw_4 (DepthwiseConv2D)     (None, 28, 28, 128)  1152        conv_pad_4[0][0]                 \n",
            "__________________________________________________________________________________________________\n",
            "conv_dw_4_bn (BatchNormalizatio (None, 28, 28, 128)  512         conv_dw_4[0][0]                  \n",
            "__________________________________________________________________________________________________\n",
            "conv_dw_4_relu (ReLU)           (None, 28, 28, 128)  0           conv_dw_4_bn[0][0]               \n",
            "__________________________________________________________________________________________________\n",
            "conv_pw_4 (Conv2D)              (None, 28, 28, 256)  32768       conv_dw_4_relu[0][0]             \n",
            "__________________________________________________________________________________________________\n",
            "conv_pw_4_bn (BatchNormalizatio (None, 28, 28, 256)  1024        conv_pw_4[0][0]                  \n",
            "__________________________________________________________________________________________________\n",
            "conv_pw_4_relu (ReLU)           (None, 28, 28, 256)  0           conv_pw_4_bn[0][0]               \n",
            "__________________________________________________________________________________________________\n",
            "conv_dw_5 (DepthwiseConv2D)     (None, 28, 28, 256)  2304        conv_pw_4_relu[0][0]             \n",
            "__________________________________________________________________________________________________\n",
            "conv_dw_5_bn (BatchNormalizatio (None, 28, 28, 256)  1024        conv_dw_5[0][0]                  \n",
            "__________________________________________________________________________________________________\n",
            "conv_dw_5_relu (ReLU)           (None, 28, 28, 256)  0           conv_dw_5_bn[0][0]               \n",
            "__________________________________________________________________________________________________\n",
            "conv_pw_5 (Conv2D)              (None, 28, 28, 256)  65536       conv_dw_5_relu[0][0]             \n",
            "__________________________________________________________________________________________________\n",
            "conv_pw_5_bn (BatchNormalizatio (None, 28, 28, 256)  1024        conv_pw_5[0][0]                  \n",
            "__________________________________________________________________________________________________\n",
            "conv_pw_5_relu (ReLU)           (None, 28, 28, 256)  0           conv_pw_5_bn[0][0]               \n",
            "__________________________________________________________________________________________________\n",
            "conv_pad_6 (ZeroPadding2D)      (None, 29, 29, 256)  0           conv_pw_5_relu[0][0]             \n",
            "__________________________________________________________________________________________________\n",
            "conv_dw_6 (DepthwiseConv2D)     (None, 14, 14, 256)  2304        conv_pad_6[0][0]                 \n",
            "__________________________________________________________________________________________________\n",
            "conv_dw_6_bn (BatchNormalizatio (None, 14, 14, 256)  1024        conv_dw_6[0][0]                  \n",
            "__________________________________________________________________________________________________\n",
            "conv_dw_6_relu (ReLU)           (None, 14, 14, 256)  0           conv_dw_6_bn[0][0]               \n",
            "__________________________________________________________________________________________________\n",
            "conv_pw_6 (Conv2D)              (None, 14, 14, 512)  131072      conv_dw_6_relu[0][0]             \n",
            "__________________________________________________________________________________________________\n",
            "conv_pw_6_bn (BatchNormalizatio (None, 14, 14, 512)  2048        conv_pw_6[0][0]                  \n",
            "__________________________________________________________________________________________________\n",
            "conv_pw_6_relu (ReLU)           (None, 14, 14, 512)  0           conv_pw_6_bn[0][0]               \n",
            "__________________________________________________________________________________________________\n",
            "conv_dw_7 (DepthwiseConv2D)     (None, 14, 14, 512)  4608        conv_pw_6_relu[0][0]             \n",
            "__________________________________________________________________________________________________\n",
            "conv_dw_7_bn (BatchNormalizatio (None, 14, 14, 512)  2048        conv_dw_7[0][0]                  \n",
            "__________________________________________________________________________________________________\n",
            "conv_dw_7_relu (ReLU)           (None, 14, 14, 512)  0           conv_dw_7_bn[0][0]               \n",
            "__________________________________________________________________________________________________\n",
            "conv_pw_7 (Conv2D)              (None, 14, 14, 512)  262144      conv_dw_7_relu[0][0]             \n",
            "__________________________________________________________________________________________________\n",
            "conv_pw_7_bn (BatchNormalizatio (None, 14, 14, 512)  2048        conv_pw_7[0][0]                  \n",
            "__________________________________________________________________________________________________\n",
            "conv_pw_7_relu (ReLU)           (None, 14, 14, 512)  0           conv_pw_7_bn[0][0]               \n",
            "__________________________________________________________________________________________________\n",
            "conv_dw_8 (DepthwiseConv2D)     (None, 14, 14, 512)  4608        conv_pw_7_relu[0][0]             \n",
            "__________________________________________________________________________________________________\n",
            "conv_dw_8_bn (BatchNormalizatio (None, 14, 14, 512)  2048        conv_dw_8[0][0]                  \n",
            "__________________________________________________________________________________________________\n",
            "conv_dw_8_relu (ReLU)           (None, 14, 14, 512)  0           conv_dw_8_bn[0][0]               \n",
            "__________________________________________________________________________________________________\n",
            "conv_pw_8 (Conv2D)              (None, 14, 14, 512)  262144      conv_dw_8_relu[0][0]             \n",
            "__________________________________________________________________________________________________\n",
            "conv_pw_8_bn (BatchNormalizatio (None, 14, 14, 512)  2048        conv_pw_8[0][0]                  \n",
            "__________________________________________________________________________________________________\n",
            "conv_pw_8_relu (ReLU)           (None, 14, 14, 512)  0           conv_pw_8_bn[0][0]               \n",
            "__________________________________________________________________________________________________\n",
            "conv_dw_9 (DepthwiseConv2D)     (None, 14, 14, 512)  4608        conv_pw_8_relu[0][0]             \n",
            "__________________________________________________________________________________________________\n",
            "conv_dw_9_bn (BatchNormalizatio (None, 14, 14, 512)  2048        conv_dw_9[0][0]                  \n",
            "__________________________________________________________________________________________________\n",
            "conv_dw_9_relu (ReLU)           (None, 14, 14, 512)  0           conv_dw_9_bn[0][0]               \n",
            "__________________________________________________________________________________________________\n",
            "conv_pw_9 (Conv2D)              (None, 14, 14, 512)  262144      conv_dw_9_relu[0][0]             \n",
            "__________________________________________________________________________________________________\n",
            "conv_pw_9_bn (BatchNormalizatio (None, 14, 14, 512)  2048        conv_pw_9[0][0]                  \n",
            "__________________________________________________________________________________________________\n",
            "conv_pw_9_relu (ReLU)           (None, 14, 14, 512)  0           conv_pw_9_bn[0][0]               \n",
            "__________________________________________________________________________________________________\n",
            "conv_dw_10 (DepthwiseConv2D)    (None, 14, 14, 512)  4608        conv_pw_9_relu[0][0]             \n",
            "__________________________________________________________________________________________________\n",
            "conv_dw_10_bn (BatchNormalizati (None, 14, 14, 512)  2048        conv_dw_10[0][0]                 \n",
            "__________________________________________________________________________________________________\n",
            "conv_dw_10_relu (ReLU)          (None, 14, 14, 512)  0           conv_dw_10_bn[0][0]              \n",
            "__________________________________________________________________________________________________\n",
            "conv_pw_10 (Conv2D)             (None, 14, 14, 512)  262144      conv_dw_10_relu[0][0]            \n",
            "__________________________________________________________________________________________________\n",
            "conv_pw_10_bn (BatchNormalizati (None, 14, 14, 512)  2048        conv_pw_10[0][0]                 \n",
            "__________________________________________________________________________________________________\n",
            "conv_pw_10_relu (ReLU)          (None, 14, 14, 512)  0           conv_pw_10_bn[0][0]              \n",
            "__________________________________________________________________________________________________\n",
            "conv_dw_11 (DepthwiseConv2D)    (None, 14, 14, 512)  4608        conv_pw_10_relu[0][0]            \n",
            "__________________________________________________________________________________________________\n",
            "conv_dw_11_bn (BatchNormalizati (None, 14, 14, 512)  2048        conv_dw_11[0][0]                 \n",
            "__________________________________________________________________________________________________\n",
            "conv_dw_11_relu (ReLU)          (None, 14, 14, 512)  0           conv_dw_11_bn[0][0]              \n",
            "__________________________________________________________________________________________________\n",
            "conv_pw_11 (Conv2D)             (None, 14, 14, 512)  262144      conv_dw_11_relu[0][0]            \n",
            "__________________________________________________________________________________________________\n",
            "conv_pw_11_bn (BatchNormalizati (None, 14, 14, 512)  2048        conv_pw_11[0][0]                 \n",
            "__________________________________________________________________________________________________\n",
            "conv_pw_11_relu (ReLU)          (None, 14, 14, 512)  0           conv_pw_11_bn[0][0]              \n",
            "__________________________________________________________________________________________________\n",
            "conv_pad_12 (ZeroPadding2D)     (None, 15, 15, 512)  0           conv_pw_11_relu[0][0]            \n",
            "__________________________________________________________________________________________________\n",
            "conv_dw_12 (DepthwiseConv2D)    (None, 7, 7, 512)    4608        conv_pad_12[0][0]                \n",
            "__________________________________________________________________________________________________\n",
            "conv_dw_12_bn (BatchNormalizati (None, 7, 7, 512)    2048        conv_dw_12[0][0]                 \n",
            "__________________________________________________________________________________________________\n",
            "conv_dw_12_relu (ReLU)          (None, 7, 7, 512)    0           conv_dw_12_bn[0][0]              \n",
            "__________________________________________________________________________________________________\n",
            "conv_pw_12 (Conv2D)             (None, 7, 7, 1024)   524288      conv_dw_12_relu[0][0]            \n",
            "__________________________________________________________________________________________________\n",
            "conv_pw_12_bn (BatchNormalizati (None, 7, 7, 1024)   4096        conv_pw_12[0][0]                 \n",
            "__________________________________________________________________________________________________\n",
            "conv_pw_12_relu (ReLU)          (None, 7, 7, 1024)   0           conv_pw_12_bn[0][0]              \n",
            "__________________________________________________________________________________________________\n",
            "conv_dw_13 (DepthwiseConv2D)    (None, 7, 7, 1024)   9216        conv_pw_12_relu[0][0]            \n",
            "__________________________________________________________________________________________________\n",
            "conv_dw_13_bn (BatchNormalizati (None, 7, 7, 1024)   4096        conv_dw_13[0][0]                 \n",
            "__________________________________________________________________________________________________\n",
            "conv_dw_13_relu (ReLU)          (None, 7, 7, 1024)   0           conv_dw_13_bn[0][0]              \n",
            "__________________________________________________________________________________________________\n",
            "conv_pw_13 (Conv2D)             (None, 7, 7, 1024)   1048576     conv_dw_13_relu[0][0]            \n",
            "__________________________________________________________________________________________________\n",
            "conv_pw_13_bn (BatchNormalizati (None, 7, 7, 1024)   4096        conv_pw_13[0][0]                 \n",
            "__________________________________________________________________________________________________\n",
            "conv_pw_13_relu (ReLU)          (None, 7, 7, 1024)   0           conv_pw_13_bn[0][0]              \n",
            "__________________________________________________________________________________________________\n",
            "up_sampling2d_21 (UpSampling2D) (None, 14, 14, 1024) 0           conv_pw_13_relu[0][0]            \n",
            "__________________________________________________________________________________________________\n",
            "concatenate_18 (Concatenate)    (None, 14, 14, 1536) 0           up_sampling2d_21[0][0]           \n",
            "                                                                 conv_pw_11_relu[0][0]            \n",
            "__________________________________________________________________________________________________\n",
            "up_sampling2d_22 (UpSampling2D) (None, 28, 28, 1536) 0           concatenate_18[0][0]             \n",
            "__________________________________________________________________________________________________\n",
            "concatenate_19 (Concatenate)    (None, 28, 28, 1792) 0           up_sampling2d_22[0][0]           \n",
            "                                                                 conv_pw_5_relu[0][0]             \n",
            "__________________________________________________________________________________________________\n",
            "up_sampling2d_23 (UpSampling2D) (None, 56, 56, 1792) 0           concatenate_19[0][0]             \n",
            "__________________________________________________________________________________________________\n",
            "concatenate_20 (Concatenate)    (None, 56, 56, 1920) 0           up_sampling2d_23[0][0]           \n",
            "                                                                 conv_pw_3_relu[0][0]             \n",
            "__________________________________________________________________________________________________\n",
            "up_sampling2d_24 (UpSampling2D) (None, 112, 112, 192 0           concatenate_20[0][0]             \n",
            "__________________________________________________________________________________________________\n",
            "concatenate_21 (Concatenate)    (None, 112, 112, 198 0           up_sampling2d_24[0][0]           \n",
            "                                                                 conv_pw_1_relu[0][0]             \n",
            "__________________________________________________________________________________________________\n",
            "up_sampling2d_25 (UpSampling2D) (None, 224, 224, 198 0           concatenate_21[0][0]             \n",
            "__________________________________________________________________________________________________\n",
            "conv2d_2 (Conv2D)               (None, 224, 224, 1)  1985        up_sampling2d_25[0][0]           \n",
            "__________________________________________________________________________________________________\n",
            "reshape_2 (Reshape)             (None, 224, 224)     0           conv2d_2[0][0]                   \n",
            "==================================================================================================\n",
            "Total params: 3,230,849\n",
            "Trainable params: 1,985\n",
            "Non-trainable params: 3,228,864\n",
            "__________________________________________________________________________________________________\n"
          ],
          "name": "stdout"
        }
      ]
    },
    {
      "cell_type": "markdown",
      "metadata": {
        "id": "2spcE4TvfEZw"
      },
      "source": [
        "### Define dice coefficient function (3 marks)\n",
        "- Create a function to calculate dice coefficient\n"
      ]
    },
    {
      "cell_type": "code",
      "metadata": {
        "id": "8H8aViXZuWz1"
      },
      "source": [
        "#### Add your code here ####\n",
        "from tensorflow import reduce_sum\n",
        "from tensorflow.keras.backend import epsilon\n",
        "\n",
        "def dice_coefficient(y_true, y_pred):\n",
        "    numerator = 2 * reduce_sum(y_true * y_pred)\n",
        "    denominator = reduce_sum(y_true + y_pred)\n",
        "    return numerator / (denominator + epsilon())"
      ],
      "execution_count": 70,
      "outputs": []
    },
    {
      "cell_type": "markdown",
      "metadata": {
        "id": "Nkp5SDM1fIu2"
      },
      "source": [
        "### Define loss function (3 marks)"
      ]
    },
    {
      "cell_type": "code",
      "metadata": {
        "id": "FEOVfs19KVLv"
      },
      "source": [
        "#### Add your code here ####\n",
        "from tensorflow.keras.losses import binary_crossentropy\n",
        "from tensorflow.keras.backend import log\n",
        "def loss(y_true, y_pred):\n",
        "    return binary_crossentropy(y_true, y_pred) - tensorflow.keras.backend.log(dice_coefficient(y_true, y_pred) + tensorflow.keras.backend.epsilon())"
      ],
      "execution_count": 71,
      "outputs": []
    },
    {
      "cell_type": "markdown",
      "metadata": {
        "id": "Thltv_akfOMS"
      },
      "source": [
        "### Compile the model (3 marks)\n",
        "- Complie the model using below parameters\n",
        "  - loss: use the loss function defined above\n",
        "  - optimizers: use Adam optimizer\n",
        "  - metrics: use dice_coefficient function defined above"
      ]
    },
    {
      "cell_type": "code",
      "metadata": {
        "id": "atPb8xm2qkK5"
      },
      "source": [
        "#### Add your code here ####\n",
        "from tensorflow.keras.optimizers import Adam\n",
        "from tensorflow.keras.losses import binary_crossentropy\n",
        "\n",
        "#optimizer = Adam(lr=1e-4, beta_1=0.9, beta_2=0.999, epsilon=None, decay=0.0, amsgrad=False)\n",
        "model.compile(loss=loss, optimizer='adam', metrics=[dice_coefficient])"
      ],
      "execution_count": 72,
      "outputs": []
    },
    {
      "cell_type": "markdown",
      "metadata": {
        "id": "VTumZyg0fuVy"
      },
      "source": [
        "### Define callbacks (3 marks)\n",
        "- Use ModelCheckpoint\n",
        "- Use EarlyStopping\n",
        "- Use ReduceLROnPlateau"
      ]
    },
    {
      "cell_type": "code",
      "metadata": {
        "id": "QNlQHt8DMy7h"
      },
      "source": [
        "#### Add your code here ####\n",
        "from tensorflow.keras.callbacks import ModelCheckpoint, EarlyStopping, ReduceLROnPlateau\n",
        "\n",
        "checkpoint = ModelCheckpoint(\"model-{loss:.2f}.h5\", monitor=\"loss\", verbose=1, save_best_only=True, save_weights_only=True)\n",
        "\n",
        "early_stop = EarlyStopping(monitor=\"loss\", patience=5)\n",
        "\n",
        "reduce_lr = ReduceLROnPlateau(monitor=\"loss\", factor=0.2, patience=5, min_lr=1e-6, verbose=1)"
      ],
      "execution_count": 73,
      "outputs": []
    },
    {
      "cell_type": "markdown",
      "metadata": {
        "id": "LxxbwvXEf07e"
      },
      "source": [
        "### Fit the model (3 marks)\n",
        "- Fit the model using below parameters\n",
        "  - epochs: you can decide\n",
        "  - batch_size: 1\n",
        "  - callbacks: use the callbacks defined above"
      ]
    },
    {
      "cell_type": "code",
      "metadata": {
        "colab": {
          "base_uri": "https://localhost:8080/"
        },
        "id": "guFfKsEmq58j",
        "outputId": "8cf92918-4129-4eed-f173-b852f72f3a72"
      },
      "source": [
        "#### Add your code here ####\n",
        "import tensorflow\n",
        "print (X_train.shape)\n",
        "print (y_train.shape)\n",
        "print (X_test.shape)\n",
        "print (y_test.shape)\n",
        "\n",
        "model.fit(X_train, y_train, validation_data = (X_test, y_test), epochs=100, batch_size=1, callbacks=[checkpoint, reduce_lr, early_stop] )"
      ],
      "execution_count": 74,
      "outputs": [
        {
          "output_type": "stream",
          "text": [
            "(400, 224, 224, 3)\n",
            "(400, 224, 224)\n",
            "(9, 224, 224, 3)\n",
            "(9, 224, 224)\n",
            "Epoch 1/100\n",
            "400/400 [==============================] - 25s 58ms/step - loss: 1.5422 - dice_coefficient: 0.4040 - val_loss: 0.8333 - val_dice_coefficient: 0.5504\n",
            "\n",
            "Epoch 00001: loss improved from inf to 1.17718, saving model to model-1.18.h5\n",
            "Epoch 2/100\n",
            "400/400 [==============================] - 22s 56ms/step - loss: 0.8865 - dice_coefficient: 0.5718 - val_loss: 0.8075 - val_dice_coefficient: 0.5579\n",
            "\n",
            "Epoch 00002: loss improved from 1.17718 to 0.87626, saving model to model-0.88.h5\n",
            "Epoch 3/100\n",
            "400/400 [==============================] - 23s 56ms/step - loss: 0.7885 - dice_coefficient: 0.6012 - val_loss: 0.8620 - val_dice_coefficient: 0.5465\n",
            "\n",
            "Epoch 00003: loss improved from 0.87626 to 0.82839, saving model to model-0.83.h5\n",
            "Epoch 4/100\n",
            "400/400 [==============================] - 22s 56ms/step - loss: 0.8074 - dice_coefficient: 0.6135 - val_loss: 0.7918 - val_dice_coefficient: 0.5651\n",
            "\n",
            "Epoch 00004: loss improved from 0.82839 to 0.81365, saving model to model-0.81.h5\n",
            "Epoch 5/100\n",
            "400/400 [==============================] - 23s 56ms/step - loss: 0.8666 - dice_coefficient: 0.6087 - val_loss: 0.9577 - val_dice_coefficient: 0.5156\n",
            "\n",
            "Epoch 00005: loss improved from 0.81365 to 0.79797, saving model to model-0.80.h5\n",
            "Epoch 6/100\n",
            "400/400 [==============================] - 22s 56ms/step - loss: 0.7181 - dice_coefficient: 0.6347 - val_loss: 0.9106 - val_dice_coefficient: 0.5257\n",
            "\n",
            "Epoch 00006: loss improved from 0.79797 to 0.75728, saving model to model-0.76.h5\n",
            "Epoch 7/100\n",
            "400/400 [==============================] - 22s 56ms/step - loss: 0.7631 - dice_coefficient: 0.6332 - val_loss: 0.9431 - val_dice_coefficient: 0.5183\n",
            "\n",
            "Epoch 00007: loss improved from 0.75728 to 0.75103, saving model to model-0.75.h5\n",
            "Epoch 8/100\n",
            "400/400 [==============================] - 23s 56ms/step - loss: 0.7105 - dice_coefficient: 0.6320 - val_loss: 0.8343 - val_dice_coefficient: 0.5523\n",
            "\n",
            "Epoch 00008: loss did not improve from 0.75103\n",
            "Epoch 9/100\n",
            "400/400 [==============================] - 23s 56ms/step - loss: 0.7070 - dice_coefficient: 0.6338 - val_loss: 0.8506 - val_dice_coefficient: 0.5504\n",
            "\n",
            "Epoch 00009: loss improved from 0.75103 to 0.73225, saving model to model-0.73.h5\n",
            "Epoch 10/100\n",
            "400/400 [==============================] - 22s 56ms/step - loss: 0.7481 - dice_coefficient: 0.6362 - val_loss: 0.8343 - val_dice_coefficient: 0.5554\n",
            "\n",
            "Epoch 00010: loss did not improve from 0.73225\n",
            "Epoch 11/100\n",
            "400/400 [==============================] - 22s 56ms/step - loss: 0.8247 - dice_coefficient: 0.6377 - val_loss: 0.8616 - val_dice_coefficient: 0.5461\n",
            "\n",
            "Epoch 00011: loss did not improve from 0.73225\n",
            "Epoch 12/100\n",
            "400/400 [==============================] - 22s 56ms/step - loss: 0.7451 - dice_coefficient: 0.6350 - val_loss: 0.8809 - val_dice_coefficient: 0.5451\n",
            "\n",
            "Epoch 00012: loss improved from 0.73225 to 0.73092, saving model to model-0.73.h5\n",
            "Epoch 13/100\n",
            "400/400 [==============================] - 22s 56ms/step - loss: 0.6966 - dice_coefficient: 0.6500 - val_loss: 0.8530 - val_dice_coefficient: 0.5540\n",
            "\n",
            "Epoch 00013: loss did not improve from 0.73092\n",
            "Epoch 14/100\n",
            "400/400 [==============================] - 23s 57ms/step - loss: 0.7032 - dice_coefficient: 0.6413 - val_loss: 0.8265 - val_dice_coefficient: 0.5623\n",
            "\n",
            "Epoch 00014: loss improved from 0.73092 to 0.72417, saving model to model-0.72.h5\n",
            "Epoch 15/100\n",
            "400/400 [==============================] - 23s 56ms/step - loss: 0.7169 - dice_coefficient: 0.6532 - val_loss: 0.8583 - val_dice_coefficient: 0.5510\n",
            "\n",
            "Epoch 00015: loss improved from 0.72417 to 0.71527, saving model to model-0.72.h5\n",
            "Epoch 16/100\n",
            "400/400 [==============================] - 22s 56ms/step - loss: 0.7006 - dice_coefficient: 0.6615 - val_loss: 0.8598 - val_dice_coefficient: 0.5496\n",
            "\n",
            "Epoch 00016: loss improved from 0.71527 to 0.71310, saving model to model-0.71.h5\n",
            "Epoch 17/100\n",
            "400/400 [==============================] - 22s 56ms/step - loss: 0.6885 - dice_coefficient: 0.6554 - val_loss: 0.8363 - val_dice_coefficient: 0.5576\n",
            "\n",
            "Epoch 00017: loss improved from 0.71310 to 0.70465, saving model to model-0.70.h5\n",
            "Epoch 18/100\n",
            "400/400 [==============================] - 22s 56ms/step - loss: 0.6540 - dice_coefficient: 0.6663 - val_loss: 0.8741 - val_dice_coefficient: 0.5427\n",
            "\n",
            "Epoch 00018: loss improved from 0.70465 to 0.70127, saving model to model-0.70.h5\n",
            "Epoch 19/100\n",
            "400/400 [==============================] - 22s 56ms/step - loss: 0.7107 - dice_coefficient: 0.6395 - val_loss: 0.8334 - val_dice_coefficient: 0.5600\n",
            "\n",
            "Epoch 00019: loss did not improve from 0.70127\n",
            "Epoch 20/100\n",
            "400/400 [==============================] - 22s 56ms/step - loss: 0.8204 - dice_coefficient: 0.6435 - val_loss: 0.8832 - val_dice_coefficient: 0.5439\n",
            "\n",
            "Epoch 00020: loss improved from 0.70127 to 0.69793, saving model to model-0.70.h5\n",
            "Epoch 21/100\n",
            "400/400 [==============================] - 22s 56ms/step - loss: 0.6727 - dice_coefficient: 0.6571 - val_loss: 0.8829 - val_dice_coefficient: 0.5462\n",
            "\n",
            "Epoch 00021: loss did not improve from 0.69793\n",
            "Epoch 22/100\n",
            "400/400 [==============================] - 22s 56ms/step - loss: 0.7342 - dice_coefficient: 0.6552 - val_loss: 0.8831 - val_dice_coefficient: 0.5433\n",
            "\n",
            "Epoch 00022: loss did not improve from 0.69793\n",
            "Epoch 23/100\n",
            "400/400 [==============================] - 22s 56ms/step - loss: 0.6855 - dice_coefficient: 0.6513 - val_loss: 0.9466 - val_dice_coefficient: 0.5334\n",
            "\n",
            "Epoch 00023: loss did not improve from 0.69793\n",
            "Epoch 24/100\n",
            "400/400 [==============================] - 22s 56ms/step - loss: 0.6913 - dice_coefficient: 0.6732 - val_loss: 0.8501 - val_dice_coefficient: 0.5577\n",
            "\n",
            "Epoch 00024: loss did not improve from 0.69793\n",
            "Epoch 25/100\n",
            "400/400 [==============================] - 22s 56ms/step - loss: 0.7152 - dice_coefficient: 0.6584 - val_loss: 0.8814 - val_dice_coefficient: 0.5493\n",
            "\n",
            "Epoch 00025: loss did not improve from 0.69793\n",
            "\n",
            "Epoch 00025: ReduceLROnPlateau reducing learning rate to 0.00020000000949949026.\n"
          ],
          "name": "stdout"
        },
        {
          "output_type": "execute_result",
          "data": {
            "text/plain": [
              "<tensorflow.python.keras.callbacks.History at 0x7f7a267405d0>"
            ]
          },
          "metadata": {
            "tags": []
          },
          "execution_count": 74
        }
      ]
    },
    {
      "cell_type": "markdown",
      "metadata": {
        "id": "5VtnuzlOf4uL"
      },
      "source": [
        "### Get the predicted mask for a test image   (3 marks)"
      ]
    },
    {
      "cell_type": "markdown",
      "metadata": {
        "id": "EKeEPrQJNqpq"
      },
      "source": [
        "Show the test image"
      ]
    },
    {
      "cell_type": "code",
      "metadata": {
        "colab": {
          "base_uri": "https://localhost:8080/",
          "height": 303
        },
        "id": "o-CBCMysrchu",
        "outputId": "db27b3cb-88c0-4fba-bf47-71eea99f3811"
      },
      "source": [
        "plt.imshow(X_test[5])"
      ],
      "execution_count": 80,
      "outputs": [
        {
          "output_type": "stream",
          "text": [
            "Clipping input data to the valid range for imshow with RGB data ([0..1] for floats or [0..255] for integers).\n"
          ],
          "name": "stderr"
        },
        {
          "output_type": "execute_result",
          "data": {
            "text/plain": [
              "<matplotlib.image.AxesImage at 0x7f7a26e02cd0>"
            ]
          },
          "metadata": {
            "tags": []
          },
          "execution_count": 80
        },
        {
          "output_type": "display_data",
          "data": {
            "image/png": "[encoded data removed]",
            "text/plain": [
              "<Figure size 432x288 with 1 Axes>"
            ]
          },
          "metadata": {
            "tags": [],
            "needs_background": "light"
          }
        }
      ]
    },
    {
      "cell_type": "markdown",
      "metadata": {
        "id": "0HuDvCJHNuwF"
      },
      "source": [
        "Show original mask for test image"
      ]
    },
    {
      "cell_type": "code",
      "metadata": {
        "colab": {
          "base_uri": "https://localhost:8080/",
          "height": 286
        },
        "id": "fvUuZu2zNxuj",
        "outputId": "f955e56f-3d9b-4a1a-a69a-230fbd9f9700"
      },
      "source": [
        "plt.imshow(masks[5])"
      ],
      "execution_count": 81,
      "outputs": [
        {
          "output_type": "execute_result",
          "data": {
            "text/plain": [
              "<matplotlib.image.AxesImage at 0x7f7a266365d0>"
            ]
          },
          "metadata": {
            "tags": []
          },
          "execution_count": 81
        },
        {
          "output_type": "display_data",
          "data": {
            "image/png": "[encoded data removed]",
            "text/plain": [
              "<Figure size 432x288 with 1 Axes>"
            ]
          },
          "metadata": {
            "tags": [],
            "needs_background": "light"
          }
        }
      ]
    },
    {
      "cell_type": "markdown",
      "metadata": {
        "id": "IJjNguwlN6rI"
      },
      "source": [
        "Predict the mask on the test image"
      ]
    },
    {
      "cell_type": "code",
      "metadata": {
        "colab": {
          "base_uri": "https://localhost:8080/"
        },
        "id": "X2dmz90gOcIr",
        "outputId": "233dacb6-1c25-410f-df9d-b6f254c67a76"
      },
      "source": [
        "pred_mask = model.predict(x=np.array([X_test[5]]))[0]\n",
        "print(pred_mask)\n"
      ],
      "execution_count": 82,
      "outputs": [
        {
          "output_type": "stream",
          "text": [
            "[[9.0385449e-11 9.0385449e-11 7.2467199e-11 ... 7.2000586e-14\n",
            "  9.4233567e-14 9.4233567e-14]\n",
            " [9.0385449e-11 9.0385449e-11 7.2467199e-11 ... 7.2000586e-14\n",
            "  9.4233567e-14 9.4233567e-14]\n",
            " [8.7224263e-11 8.7224263e-11 1.1754313e-10 ... 1.2700117e-13\n",
            "  6.8050180e-14 6.8050180e-14]\n",
            " ...\n",
            " [1.9868848e-10 1.9868848e-10 2.2166781e-10 ... 1.2315012e-13\n",
            "  8.4699026e-14 8.4699026e-14]\n",
            " [3.3455938e-10 3.3455938e-10 1.9997314e-10 ... 8.1054866e-14\n",
            "  9.9889728e-14 9.9889728e-14]\n",
            " [3.3455938e-10 3.3455938e-10 1.9997314e-10 ... 8.1054866e-14\n",
            "  9.9889728e-14 9.9889728e-14]]\n"
          ],
          "name": "stdout"
        }
      ]
    },
    {
      "cell_type": "markdown",
      "metadata": {
        "id": "fDIetz0HgA4R"
      },
      "source": [
        "### Impose the mask on the test image (3 marks)\n",
        "- In imshow use the alpha parameter and set it to greater than 0.5"
      ]
    },
    {
      "cell_type": "code",
      "metadata": {
        "colab": {
          "base_uri": "https://localhost:8080/",
          "height": 303
        },
        "id": "MTAHGkb5xdzu",
        "outputId": "1158e738-d9a9-45a8-aa1f-ae39133e2e9b"
      },
      "source": [
        "#### Add your code here ####\n",
        "pred_mask = cv2.resize(pred_mask, (IMAGE_WIDTH, IMAGE_HEIGHT))\n",
        "plt.imshow(X_test[5])\n",
        "plt.imshow(pred_mask, alpha=.6)"
      ],
      "execution_count": 83,
      "outputs": [
        {
          "output_type": "stream",
          "text": [
            "Clipping input data to the valid range for imshow with RGB data ([0..1] for floats or [0..255] for integers).\n"
          ],
          "name": "stderr"
        },
        {
          "output_type": "execute_result",
          "data": {
            "text/plain": [
              "<matplotlib.image.AxesImage at 0x7f7a26ef6610>"
            ]
          },
          "metadata": {
            "tags": []
          },
          "execution_count": 83
        },
        {
          "output_type": "display_data",
          "data": {
            "image/png": "[encoded data removed]",
            "text/plain": [
              "<Figure size 432x288 with 1 Axes>"
            ]
          },
          "metadata": {
            "tags": [],
            "needs_background": "light"
          }
        }
      ]
    },
    {
      "cell_type": "code",
      "metadata": {
        "id": "Rw_0HqozXfDp"
      },
      "source": [
        ""
      ],
      "execution_count": 78,
      "outputs": []
    }
  ]
}